{
 "cells": [
  {
   "cell_type": "code",
   "execution_count": null,
   "id": "004a790f",
   "metadata": {
    "vscode": {
     "languageId": "plaintext"
    }
   },
   "outputs": [],
   "source": [
    "import glob\n",
    "import os\n",
    "import pandas as pd\n",
    "\n",
    "BASE = os.path.join(os.path.dirname(__file__), \"..\", \"stocks_etl\", \"..\", \"ETL\", \"data\")\n",
    "BASE = os.path.abspath(os.path.join(os.path.dirname(__file__), \"..\", \"data\"))\n",
    "\n",
    "# Ajusta BASE si tu output_dir es distinto\n",
    "\n",
    "def main():\n",
    "    csvs = sorted(glob.glob(os.path.join(BASE, \"*_prices_*.csv\")))\n",
    "    preds = sorted(glob.glob(os.path.join(BASE, \"predictions_*.csv\")))\n",
    "    if not csvs:\n",
    "        print(\"No hay CSV de precios en\", BASE)\n",
    "        return\n",
    "    df = pd.read_csv(csvs[-1])\n",
    "    print(\"Precios HEAD:\\n\", df.head())\n",
    "    print(\"Precios DESCRIBE:\\n\", df.describe())\n",
    "    if preds:\n",
    "        dp = pd.read_csv(preds[-1])\n",
    "        print(\"Predicciones:\\n\", dp)\n",
    "\n",
    "if __name__ == \"__main__\":\n",
    "    main()\n"
   ]
  }
 ],
 "metadata": {
  "language_info": {
   "name": "python"
  }
 },
 "nbformat": 4,
 "nbformat_minor": 5
}
